{
 "cells": [
  {
   "cell_type": "code",
   "execution_count": 9,
   "metadata": {},
   "outputs": [
    {
     "name": "stdout",
     "output_type": "stream",
     "text": [
      "{'1 10': 531, '1 01': 492}\n"
     ]
    }
   ],
   "source": [
    "import qiskit\n",
    "import qiskit.extensions.standard as standard\n",
    "from qiskit.circuit.measure import measure\n",
    "from qiskit.circuit import QuantumCircuit, QuantumRegister, ClassicalRegister\n",
    "\n",
    "from acquantum_qiskit import AcQuantumProvider\n",
    "\n",
    "q = QuantumRegister(2, \"q\")\n",
    "r = QuantumRegister(1, \"r\")\n",
    "c = ClassicalRegister(2, \"c\")\n",
    "ca = ClassicalRegister(1, \"c^a\")\n",
    "qc = QuantumCircuit(q, r, c, ca, name=\"TestCircuit\")\n",
    "standard.h(qc, q[0])\n",
    "standard.cx(qc, q[0], q[1])\n",
    "standard.x(qc, r)\n",
    "measure(qc, q, c)\n",
    "measure(qc, r, ca)\n",
    "\n",
    "# Create the provider\n",
    "provider = AcQuantumProvider()\n",
    "\n",
    "# load_account without arguments tries to load from system environment varables \n",
    "# the user (ACQ_USER) and password (ACQ_PWD) \n",
    "provider.enable_account()\n",
    "\n",
    "# if this is not what you want instantiate instead\n",
    "# ===> uncomment this if you want this:\n",
    "# provider.enable_account(user='your_user', password='xxxxxxxx')\n",
    "\n",
    "backend = provider.get_backend(\"SIMULATE\")  # type: AcQuantumBackend\n",
    "\n",
    "# Execute and print out the results\n",
    "job = qiskit.execute(qc, backend, shots=1024, seed=None)\n",
    "result = job.result()\n",
    "print(result.get_counts())"
   ]
  },
  {
   "cell_type": "code",
   "execution_count": null,
   "metadata": {},
   "outputs": [],
   "source": []
  }
 ],
 "metadata": {
  "kernelspec": {
   "display_name": "Python 3",
   "language": "python",
   "name": "python3"
  },
  "language_info": {
   "codemirror_mode": {
    "name": "ipython",
    "version": 3
   },
   "file_extension": ".py",
   "mimetype": "text/x-python",
   "name": "python",
   "nbconvert_exporter": "python",
   "pygments_lexer": "ipython3",
   "version": "3.6.7"
  }
 },
 "nbformat": 4,
 "nbformat_minor": 2
}
